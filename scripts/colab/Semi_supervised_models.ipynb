{
  "nbformat": 4,
  "nbformat_minor": 0,
  "metadata": {
    "colab": {
      "name": "Semi-supervised-models.ipynb",
      "provenance": [],
      "collapsed_sections": []
    },
    "kernelspec": {
      "name": "python3",
      "display_name": "Python 3"
    },
    "language_info": {
      "name": "python"
    }
  },
  "cells": [
    {
      "cell_type": "markdown",
      "metadata": {
        "id": "cOtwMmwjurxE"
      },
      "source": [
        "# Semi-supervised classification of German press releases\n",
        "\n",
        "This script is based on: https://scikit-learn.org/stable/auto_examples/semi_supervised/plot_semi_supervised_newsgroups.html\n"
      ]
    },
    {
      "cell_type": "code",
      "metadata": {
        "id": "_fMn8t9iupDu"
      },
      "source": [
        "# import sklearn; sklearn.show_versions()\n",
        "# !pip install --upgrade scikit-learn"
      ],
      "execution_count": null,
      "outputs": []
    },
    {
      "cell_type": "code",
      "metadata": {
        "id": "9Mz7vQtltoYX"
      },
      "source": [
        "# Load packages\n",
        "import os\n",
        "import numpy as np\n",
        "import pandas as pd\n",
        "from google.colab import drive\n",
        "import timeit\n",
        "\n",
        "from sklearn.datasets import fetch_20newsgroups\n",
        "from sklearn.feature_extraction.text import CountVectorizer\n",
        "from sklearn.feature_extraction.text import TfidfTransformer\n",
        "from sklearn.preprocessing import FunctionTransformer\n",
        "from sklearn.linear_model import SGDClassifier\n",
        "from sklearn.model_selection import train_test_split\n",
        "from sklearn.pipeline import Pipeline\n",
        "from sklearn.semi_supervised import SelfTrainingClassifier\n",
        "from sklearn.semi_supervised import LabelSpreading\n",
        "from sklearn.metrics import f1_score\n",
        "from sklearn.metrics import accuracy_score"
      ],
      "execution_count": null,
      "outputs": []
    },
    {
      "cell_type": "code",
      "metadata": {
        "colab": {
          "base_uri": "https://localhost:8080/"
        },
        "id": "Z0KsqI-1uj-r",
        "outputId": "04f42391-27a6-4914-9775-7ea3d7cec99e"
      },
      "source": [
        "# Set up wd\n",
        "drive.mount('/content/drive/')\n",
        "os.chdir('/content/drive/My Drive/scripts-hu/issues/semi-files')"
      ],
      "execution_count": null,
      "outputs": [
        {
          "output_type": "stream",
          "text": [
            "Mounted at /content/drive/\n"
          ],
          "name": "stdout"
        }
      ]
    },
    {
      "cell_type": "code",
      "metadata": {
        "id": "KAXPbplseAoL"
      },
      "source": [
        "df = pd.read_csv(\"alldocs.csv\")\n"
      ],
      "execution_count": null,
      "outputs": []
    },
    {
      "cell_type": "code",
      "metadata": {
        "colab": {
          "base_uri": "https://localhost:8080/"
        },
        "id": "nTNXCGyLezRy",
        "outputId": "f5aeef57-4308-4f43-ca8e-d1dc436bba11"
      },
      "source": [
        "df.columns"
      ],
      "execution_count": null,
      "outputs": [
        {
          "output_type": "execute_result",
          "data": {
            "text/plain": [
              "Index(['issue_r1', 'id', 'country', 'party', 'date', 'cv_sample', 'htext'], dtype='object')"
            ]
          },
          "metadata": {
            "tags": []
          },
          "execution_count": 5
        }
      ]
    },
    {
      "cell_type": "code",
      "metadata": {
        "id": "EKPxYItweVpk"
      },
      "source": [
        "# Load press release data (training and test)\n",
        "alldata =  df['htext'].values\n",
        "alltarget = df['issue_r1'].values\n",
        "cv_sample = df[alltarget != -1]['cv_sample'].values\n"
      ],
      "execution_count": null,
      "outputs": []
    },
    {
      "cell_type": "code",
      "metadata": {
        "id": "4UftU281zdFo"
      },
      "source": [
        "# Only take labeled \n",
        "X = alldata[alltarget != -1]\n",
        "y = alltarget[alltarget != -1]"
      ],
      "execution_count": null,
      "outputs": []
    },
    {
      "cell_type": "code",
      "metadata": {
        "id": "ZdE0r2fxtpoL"
      },
      "source": [
        "# Evaluation function\n",
        "def eval_and_print_metrics(clf, X_train, y_train, X_test, y_test):\n",
        "    print(\"Number of training samples:\", len(X_train))\n",
        "    print(\"Unlabeled samples in training set:\",\n",
        "          sum(1 for x in y_train if x == -1))\n",
        "    clf.fit(X_train, y_train)\n",
        "    y_pred = clf.predict(X_test)\n",
        "    print(\"Micro-averaged F1 score on test set: \"\n",
        "          \"%0.3f\" % f1_score(y_test, y_pred, average='micro'))\n",
        "    print(\"Accuracy: \"\n",
        "          \"%0.3f\" % accuracy_score(y_test, y_pred))\n",
        "    print(\"-\" * 10)\n",
        "    print()"
      ],
      "execution_count": null,
      "outputs": []
    },
    {
      "cell_type": "markdown",
      "metadata": {
        "id": "tgdBq8z70nho"
      },
      "source": [
        "\n",
        "### The (non-semi) base classifier\n",
        "\n",
        "bigrams and max_docfreq 0.06\n",
        "elasticnet\n",
        "test_size 20%"
      ]
    },
    {
      "cell_type": "code",
      "metadata": {
        "id": "g80O8OCIfi2Y"
      },
      "source": [
        "# Create train/test data\n",
        "#X_train, X_test, y_train, y_test = train_test_split(X, y, test_size=0.2, random_state=42)\n",
        "X_train = X[cv_sample != 1]\n",
        "y_train = y[cv_sample != 1]\n",
        "\n",
        "X_test = X[cv_sample == 1]\n",
        "y_test = y[cv_sample == 1]"
      ],
      "execution_count": null,
      "outputs": []
    },
    {
      "cell_type": "code",
      "metadata": {
        "colab": {
          "base_uri": "https://localhost:8080/"
        },
        "id": "Pcqyti6j0AsY",
        "outputId": "cfa690bf-14cb-4e0f-df21-df8011e92415"
      },
      "source": [
        "# Define parameters for vectorizer and classifier\n",
        "vectorizer_params = dict(ngram_range=(1, 2), min_df=5, max_df=0.06)\n",
        "sgd_params = dict(alpha=8e-5, penalty='elasticnet', l1_ratio = .5, loss='log', random_state = 1621447882)\n",
        "\n",
        "# Supervised Pipeline\n",
        "pipeline = Pipeline([\n",
        "    ('vect', CountVectorizer(**vectorizer_params)),\n",
        "    ('tfidf', TfidfTransformer()),\n",
        "    ('clf', SGDClassifier(**sgd_params)),\n",
        "])\n",
        "\n",
        "# Fit and evaluate\n",
        "eval_and_print_metrics(pipeline, X_train, y_train, X_test, y_test)"
      ],
      "execution_count": null,
      "outputs": [
        {
          "output_type": "stream",
          "text": [
            "Number of training samples: 2098\n",
            "Unlabeled samples in training set: 0\n",
            "Micro-averaged F1 score on test set: 0.704\n",
            "Accuracy: 0.704\n",
            "----------\n",
            "\n"
          ],
          "name": "stdout"
        }
      ]
    },
    {
      "cell_type": "markdown",
      "metadata": {
        "id": "DagbX-cS0_zN"
      },
      "source": [
        "### The semi-supervised classifier\n",
        "With 5,000 unlabelled\n",
        "Testint different thresholds"
      ]
    },
    {
      "cell_type": "code",
      "metadata": {
        "colab": {
          "base_uri": "https://localhost:8080/"
        },
        "id": "dWRP7p4ftpte",
        "outputId": "c6bbfb6f-8099-4f6f-fa5a-56a490a19a6c"
      },
      "source": [
        "# X_train, X_test, y_train, y_test = train_test_split(X, y, test_size=0.2, random_state=42)\n",
        "\n",
        "thresholds = [.2, .3, .4, .5, .6, .7, .8, .9, .95, .99]\n",
        "\n",
        "results = []\n",
        "\n",
        "# Leave test sample\n",
        "X_all = alldata[df['cv_sample'].values != 1]\n",
        "y_all = alltarget[df['cv_sample'].values != 1]\n",
        "\n",
        "for i in thresholds:\n",
        "  print(i)\n",
        "\n",
        "  sgd_params = dict(alpha=8e-5, penalty='elasticnet', l1_ratio = .5, loss='log', random_state = 1621447882)\n",
        "  vectorizer_params = dict(ngram_range=(1, 2), min_df=5, max_df=0.06)\n",
        "  stc_params = dict(verbose=True, criterion = \"threshold\", threshold = i) #  k_best = 1000)\n",
        "  \n",
        "  # SelfTraining Pipeline\n",
        "  st_pipeline = Pipeline([\n",
        "    ('vect', CountVectorizer(**vectorizer_params)),\n",
        "    ('tfidf', TfidfTransformer()),\n",
        "    ('clf', SelfTrainingClassifier(SGDClassifier(**sgd_params), **stc_params)),\n",
        "    ])\n",
        "  \n",
        "  clf = st_pipeline\n",
        "  clf.fit(X_all, y_all)\n",
        "  y_pred = clf.predict(X_test)\n",
        " \n",
        "  print(accuracy_score(y_test, y_pred))\n",
        "  results.append(accuracy_score(y_test, y_pred))\n"
      ],
      "execution_count": null,
      "outputs": [
        {
          "output_type": "stream",
          "text": [
            "0.2\n",
            "End of iteration 1, added 26351 new labels.\n",
            "End of iteration 2, added 8073 new labels.\n",
            "End of iteration 3, added 7349 new labels.\n",
            "End of iteration 4, added 561 new labels.\n",
            "End of iteration 5, added 3 new labels.\n",
            "0.4085603112840467\n",
            "0.3\n",
            "End of iteration 1, added 16801 new labels.\n",
            "End of iteration 2, added 7858 new labels.\n",
            "End of iteration 3, added 8015 new labels.\n",
            "End of iteration 4, added 9179 new labels.\n",
            "End of iteration 5, added 464 new labels.\n",
            "End of iteration 6, added 5 new labels.\n",
            "0.30739299610894943\n",
            "0.4\n",
            "End of iteration 1, added 10041 new labels.\n",
            "End of iteration 2, added 7455 new labels.\n",
            "End of iteration 3, added 4471 new labels.\n",
            "End of iteration 4, added 14331 new labels.\n",
            "End of iteration 5, added 5867 new labels.\n",
            "End of iteration 6, added 137 new labels.\n",
            "End of iteration 7, added 3 new labels.\n",
            "0.2529182879377432\n",
            "0.5\n",
            "End of iteration 1, added 4957 new labels.\n",
            "End of iteration 2, added 5590 new labels.\n",
            "End of iteration 3, added 3364 new labels.\n",
            "End of iteration 4, added 4340 new labels.\n",
            "End of iteration 5, added 17226 new labels.\n",
            "End of iteration 6, added 6591 new labels.\n",
            "End of iteration 7, added 172 new labels.\n",
            "End of iteration 8, added 8 new labels.\n",
            "0.21595330739299612\n",
            "0.6\n",
            "End of iteration 1, added 1287 new labels.\n",
            "End of iteration 2, added 2439 new labels.\n",
            "End of iteration 3, added 1802 new labels.\n",
            "End of iteration 4, added 1541 new labels.\n",
            "End of iteration 5, added 1583 new labels.\n",
            "End of iteration 6, added 2323 new labels.\n",
            "End of iteration 7, added 13877 new labels.\n",
            "End of iteration 8, added 16919 new labels.\n",
            "End of iteration 9, added 507 new labels.\n",
            "End of iteration 10, added 9 new labels.\n",
            "0.17509727626459143\n",
            "0.7\n",
            "End of iteration 1, added 6 new labels.\n",
            "End of iteration 2, added 10 new labels.\n",
            "End of iteration 3, added 15 new labels.\n",
            "End of iteration 4, added 48 new labels.\n",
            "End of iteration 5, added 129 new labels.\n",
            "End of iteration 6, added 221 new labels.\n",
            "End of iteration 7, added 192 new labels.\n",
            "End of iteration 8, added 263 new labels.\n",
            "End of iteration 9, added 270 new labels.\n",
            "End of iteration 10, added 129 new labels.\n",
            "0.5953307392996109\n",
            "0.8\n",
            "0.6926070038910506\n",
            "0.9\n",
            "0.6926070038910506\n",
            "0.95\n",
            "0.6926070038910506\n",
            "0.99\n",
            "0.6926070038910506\n"
          ],
          "name": "stdout"
        }
      ]
    },
    {
      "cell_type": "code",
      "metadata": {
        "colab": {
          "base_uri": "https://localhost:8080/",
          "height": 282
        },
        "id": "UBnHBLh86B51",
        "outputId": "448d381a-e9ed-4543-b7e0-0188b66f1040"
      },
      "source": [
        "import matplotlib.pyplot as plt\n",
        "plt.plot(thresholds, results)"
      ],
      "execution_count": null,
      "outputs": [
        {
          "output_type": "execute_result",
          "data": {
            "text/plain": [
              "[<matplotlib.lines.Line2D at 0x7f9eeb47fed0>]"
            ]
          },
          "metadata": {
            "tags": []
          },
          "execution_count": 12
        },
        {
          "output_type": "display_data",
          "data": {
            "image/png": "[encoded data removed]",
            "text/plain": [
              "<Figure size 432x288 with 1 Axes>"
            ]
          },
          "metadata": {
            "tags": [],
            "needs_background": "light"
          }
        }
      ]
    },
    {
      "cell_type": "code",
      "metadata": {
        "colab": {
          "base_uri": "https://localhost:8080/"
        },
        "id": "lpBVH6Z-3C8R",
        "outputId": "a8b78326-b132-442f-e86e-19c2a97dc24d"
      },
      "source": [
        "results"
      ],
      "execution_count": null,
      "outputs": [
        {
          "output_type": "execute_result",
          "data": {
            "text/plain": [
              "[0.4085603112840467,\n",
              " 0.30739299610894943,\n",
              " 0.2529182879377432,\n",
              " 0.21595330739299612,\n",
              " 0.17509727626459143,\n",
              " 0.5953307392996109,\n",
              " 0.6926070038910506,\n",
              " 0.6926070038910506,\n",
              " 0.6926070038910506,\n",
              " 0.6926070038910506]"
            ]
          },
          "metadata": {
            "tags": []
          },
          "execution_count": 13
        }
      ]
    },
    {
      "cell_type": "code",
      "metadata": {
        "id": "nsG09NlDNLI_"
      },
      "source": [
        "results = pd.DataFrame({'accuracy': results, 'threshold': thresholds})\n",
        "np.savetxt(\"results-thresholds.csv\", results, delimiter = \",\")"
      ],
      "execution_count": null,
      "outputs": []
    },
    {
      "cell_type": "markdown",
      "metadata": {
        "id": "WFmlHSLKa9tn"
      },
      "source": [
        "### Optimal model\n",
        "Five-fold cross-validation"
      ]
    },
    {
      "cell_type": "code",
      "metadata": {
        "colab": {
          "base_uri": "https://localhost:8080/"
        },
        "id": "EXCSI6e1ajp2",
        "outputId": "e8a6aab1-c6a3-4d10-a99a-2e6880bfb339"
      },
      "source": [
        "# Prepare five-fold cross-validation\n",
        "\n",
        "# Define parameters\n",
        "sgd_params = dict(alpha=8e-5, penalty='elasticnet', l1_ratio = .5, loss='log', random_state = 1621447882)\n",
        "vectorizer_params = dict(ngram_range=(1, 2), min_df=5, max_df=0.06)\n",
        "stc_params = dict(verbose=True, criterion = \"threshold\", threshold = .95)\n",
        "\n",
        "# SelfTraining Pipeline\n",
        "st_pipeline = Pipeline([\n",
        "                        ('vect', CountVectorizer(**vectorizer_params)),\n",
        "                        ('tfidf', TfidfTransformer()),\n",
        "                        ('clf', SelfTrainingClassifier(SGDClassifier(**sgd_params), **stc_params)),\n",
        "                        ])\n",
        "\n",
        "# Create a list to store the data of each fold\n",
        "results = []\n",
        "times = []\n",
        "semi_pred = pd.DataFrame()\n",
        "\n",
        "# Loop over all folds (5)\n",
        "for i in [1, 2, 3, 4, 5]:\n",
        "  print(i)\n",
        "  \n",
        "  # Create train/test data\n",
        "  #X_train, X_test, y_train, y_test = train_test_split(X, y, test_size=0.2, random_state=42)\n",
        "  X_train = alldata[df['cv_sample'].values != i]\n",
        "  y_train = alltarget[df['cv_sample'].values != i]\n",
        "  \n",
        "  X_test = X[cv_sample == i]\n",
        "  y_test = y[cv_sample == i]\n",
        "  \n",
        "  clf = st_pipeline\n",
        "  \n",
        "  start = timeit.default_timer()\n",
        "  clf.fit(X_train, y_train)\n",
        "\n",
        "  # Add the time to the list\n",
        "  stop = timeit.default_timer()\n",
        "  times.append((stop - start))\n",
        "\n",
        "  y_pred = clf.predict(X_test)\n",
        "  \n",
        "  print(accuracy_score(y_test, y_pred))\n",
        "  \n",
        "  # Add the accuracy to the list\n",
        "  results.append(accuracy_score(y_test, y_pred))\n",
        "\n",
        "  this_semi_pred = pd.DataFrame({'prediction': y_pred,\n",
        "                                 'issue_r1': y_test,\n",
        "                                 'cv_sample': i},\n",
        "                                index = list(range(0, len(y_test))))\n",
        "  print(this_semi_pred)\n",
        "\n",
        "  semi_pred = semi_pred.append(this_semi_pred)\n",
        "                   \n",
        "  np.savetxt(\"semi-pred.csv\", semi_pred, delimiter = \",\")\n",
        "\n"
      ],
      "execution_count": null,
      "outputs": [
        {
          "output_type": "stream",
          "text": [
            "1\n",
            "0.6926070038910506\n",
            "     prediction  issue_r1  cv_sample\n",
            "0             1         1          1\n",
            "1             1         1          1\n",
            "2             1         1          1\n",
            "3             1         1          1\n",
            "4             1         1          1\n",
            "..          ...       ...        ...\n",
            "509         192       192          1\n",
            "510          10       192          1\n",
            "511          15       192          1\n",
            "512         191       192          1\n",
            "513         192       192          1\n",
            "\n",
            "[514 rows x 3 columns]\n",
            "2\n",
            "0.6384615384615384\n",
            "     prediction  issue_r1  cv_sample\n",
            "0             1         1          2\n",
            "1           191         1          2\n",
            "2             1         1          2\n",
            "3           191         1          2\n",
            "4             5         1          2\n",
            "..          ...       ...        ...\n",
            "515         192       192          2\n",
            "516          15       192          2\n",
            "517         192       192          2\n",
            "518         192       192          2\n",
            "519         192       192          2\n",
            "\n",
            "[520 rows x 3 columns]\n",
            "3\n",
            "0.6910420475319927\n",
            "     prediction  issue_r1  cv_sample\n",
            "0             1         1          3\n",
            "1             1         1          3\n",
            "2             1         1          3\n",
            "3             1         1          3\n",
            "4             1         1          3\n",
            "..          ...       ...        ...\n",
            "542         191       192          3\n",
            "543         192       192          3\n",
            "544         192       192          3\n",
            "545         192       192          3\n",
            "546         192       192          3\n",
            "\n",
            "[547 rows x 3 columns]\n",
            "4\n",
            "0.6536964980544747\n",
            "     prediction  issue_r1  cv_sample\n",
            "0             1         1          4\n",
            "1             1         1          4\n",
            "2             1         1          4\n",
            "3            10         1          4\n",
            "4             1         1          4\n",
            "..          ...       ...        ...\n",
            "509          15       192          4\n",
            "510         192       192          4\n",
            "511          15       192          4\n",
            "512         191       192          4\n",
            "513         191       192          4\n",
            "\n",
            "[514 rows x 3 columns]\n",
            "5\n",
            "0.6634429400386848\n",
            "     prediction  issue_r1  cv_sample\n",
            "0             1         1          5\n",
            "1             1         1          5\n",
            "2             5         1          5\n",
            "3             1         1          5\n",
            "4             1         1          5\n",
            "..          ...       ...        ...\n",
            "512         192       192          5\n",
            "513         192       192          5\n",
            "514         191       192          5\n",
            "515         192       192          5\n",
            "516         192       192          5\n",
            "\n",
            "[517 rows x 3 columns]\n"
          ],
          "name": "stdout"
        }
      ]
    },
    {
      "cell_type": "code",
      "metadata": {
        "colab": {
          "base_uri": "https://localhost:8080/"
        },
        "id": "9UNmbCC9c0iu",
        "outputId": "e98b420e-d65a-4b45-c8a4-5230d7b4661d"
      },
      "source": [
        "print(f'Average accuracy: {sum(results)/5}')"
      ],
      "execution_count": null,
      "outputs": [
        {
          "output_type": "stream",
          "text": [
            "Average accuracy: 0.6678500055955482\n"
          ],
          "name": "stdout"
        }
      ]
    },
    {
      "cell_type": "code",
      "metadata": {
        "id": "i33gw1oRexxm"
      },
      "source": [
        "np.savetxt(\"cv-accuracy.txt\", [sum(results)/5], delimiter = \",\")\n",
        "np.savetxt(\"cv-time.txt\", [sum(times)/5], delimiter = \",\")"
      ],
      "execution_count": null,
      "outputs": []
    }
  ]
}