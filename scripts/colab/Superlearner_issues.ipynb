{
  "nbformat": 4,
  "nbformat_minor": 0,
  "metadata": {
    "colab": {
      "name": "Superlearner-issues.ipynb",
      "provenance": [],
      "collapsed_sections": [],
      "machine_shape": "hm"
    },
    "kernelspec": {
      "display_name": "Python 3",
      "name": "python3"
    },
    "language_info": {
      "name": "python"
    }
  },
  "cells": [
    {
      "cell_type": "markdown",
      "metadata": {
        "id": "kguuX9AHfLW5"
      },
      "source": [
        "# Setting up the work environment"
      ]
    },
    {
      "cell_type": "code",
      "metadata": {
        "colab": {
          "base_uri": "https://localhost:8080/"
        },
        "id": "Xl5gza6JUMpV",
        "outputId": "8b88cba7-829a-43e0-ca59-0e2d149f8b4b"
      },
      "source": [
        "from google.colab import drive\n",
        "import os\n",
        "drive.mount('/content/drive/')\n",
        "os.chdir('/content/drive/My Drive/scripts-hu/issues/superlearner-files')"
      ],
      "execution_count": null,
      "outputs": [
        {
          "name": "stdout",
          "output_type": "stream",
          "text": [
            "Mounted at /content/drive/\n"
          ]
        }
      ]
    },
    {
      "cell_type": "code",
      "metadata": {
        "id": "IuX12osxJ_W4"
      },
      "source": [
        ""
      ],
      "execution_count": null,
      "outputs": []
    },
    {
      "cell_type": "markdown",
      "metadata": {
        "id": "eyeNyy_1fO6V"
      },
      "source": [
        "Installing mlens"
      ]
    },
    {
      "cell_type": "code",
      "metadata": {
        "colab": {
          "base_uri": "https://localhost:8080/"
        },
        "id": "d4pCm4UOWTaW",
        "outputId": "51508508-0cd3-46f5-8a3a-8cd3b6d9f93a"
      },
      "source": [
        "pip install mlens"
      ],
      "execution_count": null,
      "outputs": [
        {
          "name": "stdout",
          "output_type": "stream",
          "text": [
            "Collecting mlens\n",
            "  Downloading mlens-0.2.3-py2.py3-none-any.whl (227 kB)\n",
            "\u001b[?25l\r\u001b[K     |█▍                              | 10 kB 29.9 MB/s eta 0:00:01\r\u001b[K     |██▉                             | 20 kB 38.3 MB/s eta 0:00:01\r\u001b[K     |████▎                           | 30 kB 25.3 MB/s eta 0:00:01\r\u001b[K     |█████▊                          | 40 kB 18.4 MB/s eta 0:00:01\r\u001b[K     |███████▏                        | 51 kB 18.0 MB/s eta 0:00:01\r\u001b[K     |████████▋                       | 61 kB 13.6 MB/s eta 0:00:01\r\u001b[K     |██████████                      | 71 kB 13.9 MB/s eta 0:00:01\r\u001b[K     |███████████▌                    | 81 kB 15.5 MB/s eta 0:00:01\r\u001b[K     |█████████████                   | 92 kB 14.6 MB/s eta 0:00:01\r\u001b[K     |██████████████▍                 | 102 kB 13.4 MB/s eta 0:00:01\r\u001b[K     |███████████████▉                | 112 kB 13.4 MB/s eta 0:00:01\r\u001b[K     |█████████████████▎              | 122 kB 13.4 MB/s eta 0:00:01\r\u001b[K     |██████████████████▊             | 133 kB 13.4 MB/s eta 0:00:01\r\u001b[K     |████████████████████▏           | 143 kB 13.4 MB/s eta 0:00:01\r\u001b[K     |█████████████████████▋          | 153 kB 13.4 MB/s eta 0:00:01\r\u001b[K     |███████████████████████         | 163 kB 13.4 MB/s eta 0:00:01\r\u001b[K     |████████████████████████▌       | 174 kB 13.4 MB/s eta 0:00:01\r\u001b[K     |██████████████████████████      | 184 kB 13.4 MB/s eta 0:00:01\r\u001b[K     |███████████████████████████▍    | 194 kB 13.4 MB/s eta 0:00:01\r\u001b[K     |████████████████████████████▉   | 204 kB 13.4 MB/s eta 0:00:01\r\u001b[K     |██████████████████████████████▎ | 215 kB 13.4 MB/s eta 0:00:01\r\u001b[K     |███████████████████████████████▋| 225 kB 13.4 MB/s eta 0:00:01\r\u001b[K     |████████████████████████████████| 227 kB 13.4 MB/s \n",
            "\u001b[?25hRequirement already satisfied: numpy>=1.11 in /usr/local/lib/python3.7/dist-packages (from mlens) (1.19.5)\n",
            "Requirement already satisfied: scipy>=0.17 in /usr/local/lib/python3.7/dist-packages (from mlens) (1.4.1)\n",
            "Installing collected packages: mlens\n",
            "Successfully installed mlens-0.2.3\n"
          ]
        }
      ]
    },
    {
      "cell_type": "markdown",
      "metadata": {
        "id": "G6Y8zAS_fRz1"
      },
      "source": [
        "Loading packages"
      ]
    },
    {
      "cell_type": "code",
      "metadata": {
        "colab": {
          "base_uri": "https://localhost:8080/"
        },
        "id": "xEyz4J0dVigW",
        "outputId": "83a5bf32-8fe0-47c8-95bc-7c157b3f4032"
      },
      "source": [
        "import pandas as pd\n",
        "import numpy as np\n",
        "import pickle as pk\n",
        "from sklearn.metrics import accuracy_score # Load sklearn tools\n",
        "from mlens.ensemble import SuperLearner # Load SuperLearner\n",
        "import timeit\n",
        "from sklearn.metrics import f1_score, accuracy_score"
      ],
      "execution_count": null,
      "outputs": [
        {
          "name": "stderr",
          "output_type": "stream",
          "text": [
            "[MLENS] backend: threading\n"
          ]
        }
      ]
    },
    {
      "cell_type": "markdown",
      "metadata": {
        "id": "9JCnSk3IfSQK"
      },
      "source": [
        "Loading classifiers"
      ]
    },
    {
      "cell_type": "code",
      "metadata": {
        "id": "JojbZKkQfSa5"
      },
      "source": [
        "from sklearn.naive_bayes import MultinomialNB # 1\n",
        "# 2, 3 and 4 (logistic regression L2/L1 penalty and elastic net)\n",
        "from sklearn.linear_model import LogisticRegression\n",
        "from sklearn.svm import SVC # 5\n",
        "from sklearn.ensemble import RandomForestClassifier # 6"
      ],
      "execution_count": null,
      "outputs": []
    },
    {
      "cell_type": "markdown",
      "metadata": {
        "id": "oeiKshYcfd3S"
      },
      "source": [
        "## Setting up the Superlearner"
      ]
    },
    {
      "cell_type": "code",
      "metadata": {
        "id": "tp73z5GWVs2l"
      },
      "source": [
        "# Set params\n",
        "super_folds = 5\n",
        "super_tol = .005\n",
        "\n",
        "# Create a list of base-models\n",
        "def get_models():\n",
        "\tmodels = list()\n",
        "\tmodels.append(MultinomialNB())\n",
        "\tmodels.append(LogisticRegression(solver = 'liblinear', \n",
        "\tmax_iter = 1000, tol = super_tol, penalty = \"l2\"))\n",
        "\tmodels.append(LogisticRegression(solver = 'liblinear', \n",
        "\tmax_iter = 1000, tol = super_tol, penalty = \"l1\"))\n",
        "\tmodels.append(LogisticRegression(solver = 'saga', max_iter = 1000, \n",
        "\tpenalty = 'elasticnet', l1_ratio = .5, multi_class = 'multinomial', \n",
        "\trandom_state = np.random.seed(1621447882), tol = super_tol))\n",
        "\tmodels.append(SVC(probability = True, tol = super_tol))\n",
        "\tmodels.append(RandomForestClassifier())\n",
        "\treturn models\n",
        "\n",
        "# Create the superlearner\n",
        "def get_super_learner(X):\n",
        "\tensemble = SuperLearner(scorer = None, folds = super_folds, shuffle = True, \n",
        "\trandom_state = np.random.seed(3027), sample_size = len(train_val), \n",
        "\tn_jobs = 1, verbose = True)\n",
        "\tmodels = get_models() # Add base models\n",
        "\tensemble.add(models, proba = True)\n",
        "\tensemble.add_meta(LogisticRegression(solver = 'lbfgs', \n",
        "\tmax_iter = 1000, tol = super_tol), proba = False) # Add the meta model\n",
        "\treturn ensemble\n",
        " "
      ],
      "execution_count": null,
      "outputs": []
    },
    {
      "cell_type": "markdown",
      "metadata": {
        "id": "u42mSp-ZblWu"
      },
      "source": [
        "# Estimating Superlearner with alternative dfm\n",
        "(bigrams and <20% document frequency)\n",
        "\n",
        "Load press release data (training and test)"
      ]
    },
    {
      "cell_type": "markdown",
      "metadata": {
        "id": "xgbUYYq1fipO"
      },
      "source": [
        "Load press release data (training and test)"
      ]
    },
    {
      "cell_type": "code",
      "metadata": {
        "colab": {
          "base_uri": "https://localhost:8080/"
        },
        "id": "O0kPoeBWYuia",
        "outputId": "ce47d672-9f1b-4704-a89a-52321fac9995"
      },
      "source": [
        "df = pd.read_csv(\"dfmat_alt.csv\")\n",
        "\n",
        "train = df[df.cv_sample != 1] # five folds, use first fold as test set, others as training\n",
        "train_val = train['label'].values\n",
        "train = train.iloc[: , 2:]\n",
        "\n",
        "test = df[df.cv_sample == 1]\n",
        "test_val = test['label'].values\n",
        "test = test.iloc[: , 2:]\n",
        "\n",
        "train = train.values\n",
        "test = test.values\n",
        "\n",
        "print(train.shape)\n",
        "print(test.shape)"
      ],
      "execution_count": null,
      "outputs": [
        {
          "name": "stdout",
          "output_type": "stream",
          "text": [
            "(2098, 24317)\n",
            "(514, 24317)\n"
          ]
        }
      ]
    },
    {
      "cell_type": "code",
      "metadata": {
        "id": "wxZfVcPrGaJ9"
      },
      "source": [
        ""
      ],
      "execution_count": null,
      "outputs": []
    },
    {
      "cell_type": "markdown",
      "metadata": {
        "id": "zLnRFv1BflVc"
      },
      "source": [
        "Run the model"
      ]
    },
    {
      "cell_type": "markdown",
      "metadata": {
        "id": "qPlG4Bli8b-u"
      },
      "source": [
        "## Five-fold cross-validation"
      ]
    },
    {
      "cell_type": "code",
      "metadata": {
        "colab": {
          "background_save": true,
          "base_uri": "https://localhost:8080/"
        },
        "id": "PRhxlc9q8dpn",
        "outputId": "7bc585c3-af34-4b35-c896-01d67e9f91fe"
      },
      "source": [
        "# Prepare five-fold cross-validation\n",
        "\n",
        "df = pd.read_csv(\"dfmat_alt.csv\")\n",
        "\n",
        "# Create a list to store the data of each fold\n",
        "if os.path.isfile(\"super-pred.csv\"):\n",
        "  super_pred = pd.DataFrame(np.loadtxt(\"super-pred.csv\", delimiter = \",\"))\n",
        "  super_pred.columns = ['prediction', 'issue_r1', 'cv_sample']\n",
        "  results = list(np.loadtxt(\"cv-accuracy.txt\", delimiter = \",\"))\n",
        "  times = list(np.loadtxt(\"cv-time.txt\", delimiter = \",\"))\n",
        "  print(f'Loaded backup from file. cv_sample:{set(super_pred.cv_sample)}')\n",
        "\n",
        "else:\n",
        "  super_pred = pd.DataFrame()\n",
        "  results = []\n",
        "  times = []\n",
        "\n",
        "\n",
        "for i in [1, 2, 3, 4, 5]:\n",
        "  print(i)\n",
        "\n",
        "  if len(super_pred) > 0: \n",
        "    if i in set(super_pred.cv_sample):\n",
        "      continue\n",
        "  \n",
        "  train = df[df.cv_sample != i] # five folds, use first fold as test set, others as training\n",
        "  train_val = train['label'].values\n",
        "  train = train.iloc[: , 2:]\n",
        "  \n",
        "  test = df[df.cv_sample == i]\n",
        "  test_val = test['label'].values\n",
        "  test = test.iloc[: , 2:]\n",
        "  \n",
        "  train = train.values\n",
        "  test = test.values\n",
        "  print(train.shape)\n",
        "  print(test.shape)\n",
        "\n",
        "  start = timeit.default_timer()\n",
        "  \n",
        "  # Create the super learner\n",
        "  ensemble = get_super_learner(train)\n",
        "  \n",
        "  # Fit the super learner\n",
        "  ensemble.fit(train, train_val)\n",
        "  \n",
        "  # Save time\n",
        "  stop = timeit.default_timer()\n",
        "  times.append((stop - start))\n",
        "\n",
        "  y_pred = ensemble.predict(test)\n",
        "\n",
        "  # Add the accuracy to the list\n",
        "  results.append(accuracy_score(test_val, y_pred))\n",
        "\n",
        "  this_super_pred = pd.DataFrame({'prediction': y_pred,\n",
        "                                 'issue_r1': test_val,\n",
        "                                 'cv_sample': i},\n",
        "                                index = list(range(0, len(test_val))))\n",
        "  \n",
        "\n",
        "  # Summarize base learners\n",
        "  print(ensemble.data)\n",
        "\n",
        "  print(this_super_pred)\n",
        "\n",
        "  super_pred = super_pred.append(this_super_pred)\n",
        "\n",
        "  np.savetxt(\"cv-accuracy.txt\", results, delimiter = \",\")\n",
        "  np.savetxt(\"cv-time.txt\", times, delimiter = \",\")\n",
        "  np.savetxt(\"super-pred.csv\", super_pred, delimiter = \",\")\n"
      ],
      "execution_count": null,
      "outputs": [
        {
          "name": "stdout",
          "output_type": "stream",
          "text": [
            "Loaded backup from file. cv_sample:{1.0, 2.0, 3.0, 4.0}\n",
            "1\n",
            "2\n",
            "3\n",
            "4\n",
            "5\n",
            "(2095, 24317)\n",
            "(517, 24317)\n",
            "\n",
            "Fitting 2 layers\n",
            "Fit complete                        | 02:22:48\n",
            "\n",
            "Predicting 2 layers\n",
            "Predict complete                    | 00:00:29\n",
            "                                     ft-m   ft-s   pt-m  pt-s\n",
            "layer-1  logisticregression-1        1.13   0.03   0.07  0.01\n",
            "layer-1  logisticregression-2        0.63   0.02   0.04  0.00\n",
            "layer-1  logisticregression-3      530.07  26.80   0.04  0.00\n",
            "layer-1  multinomialnb               2.50   0.13   0.04  0.00\n",
            "layer-1  randomforestclassifier     12.84   0.23   0.08  0.00\n",
            "layer-1  svc                       766.77   5.67  18.45  0.07\n",
            "\n",
            "     prediction  issue_r1  cv_sample\n",
            "0           6.0         6          5\n",
            "1           1.0         1          5\n",
            "2          12.0         2          5\n",
            "3         191.0         2          5\n",
            "4           7.0        10          5\n",
            "..          ...       ...        ...\n",
            "512         4.0         4          5\n",
            "513        12.0        12          5\n",
            "514         6.0        10          5\n",
            "515       192.0       192          5\n",
            "516       191.0         9          5\n",
            "\n",
            "[517 rows x 3 columns]\n"
          ]
        }
      ]
    },
    {
      "cell_type": "code",
      "metadata": {
        "colab": {
          "base_uri": "https://localhost:8080/"
        },
        "id": "fe0-b5n293XR",
        "outputId": "1055813a-e152-41a4-ffe2-f95f3f747788"
      },
      "source": [
        "print(f'Average accuracy: {sum(results)/len(results)}')"
      ],
      "execution_count": null,
      "outputs": [
        {
          "name": "stdout",
          "output_type": "stream",
          "text": [
            "Average accuracy: 0.685059276826006\n"
          ]
        }
      ]
    }
  ]
}