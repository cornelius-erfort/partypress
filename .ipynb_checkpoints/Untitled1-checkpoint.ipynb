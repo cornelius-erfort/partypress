{
 "cells": [
  {
   "cell_type": "code",
   "execution_count": 85,
   "id": "7233a7ec",
   "metadata": {},
   "outputs": [],
   "source": [
    "import pandas as pd\n",
    "import numpy as np\n",
    "\n",
    "# example of a super learner using the mlens library\n",
    "from sklearn.model_selection import train_test_split\n",
    "from sklearn.metrics import accuracy_score\n",
    "from sklearn.metrics import f1_score\n",
    "\n",
    "\n",
    "from sklearn.neighbors import KNeighborsClassifier\n",
    "from sklearn.linear_model import LogisticRegression\n",
    "from sklearn.tree import DecisionTreeClassifier\n",
    "from sklearn.svm import SVC\n",
    "from sklearn.naive_bayes import GaussianNB\n",
    "from sklearn.ensemble import AdaBoostClassifier\n",
    "from sklearn.ensemble import BaggingClassifier\n",
    "from sklearn.ensemble import RandomForestClassifier\n",
    "from sklearn.ensemble import ExtraTreesClassifier\n",
    "from sklearn.naive_bayes import MultinomialNB\n",
    "from sklearn.naive_bayes import BernoulliNB\n",
    "\n",
    "from mlens.ensemble import SuperLearner\n"
   ]
  },
  {
   "cell_type": "code",
   "execution_count": 91,
   "id": "6741297a",
   "metadata": {},
   "outputs": [],
   "source": [
    "def get_models():\n",
    "\tmodels = list()\n",
    "\tmodels.append(MultinomialNB())\n",
    "\tmodels.append(BernoulliNB())\n",
    "\t# Commented out to save time:\n",
    "\tmodels.append(LogisticRegression(solver = 'liblinear', max_iter = 200))\n",
    "\t# models.append(DecisionTreeClassifier())\n",
    "\t# models.append(SVC(gamma = 'scale', probability = True))\n",
    "\t# models.append(GaussianNB())\n",
    "\t# models.append(KNeighborsClassifier())\n",
    "\t# models.append(AdaBoostClassifier())\n",
    "\t# models.append(BaggingClassifier())\n",
    "\t# models.append(RandomForestClassifier())\n",
    "\t# models.append(ExtraTreesClassifier())\n",
    "\treturn models"
   ]
  },
  {
   "cell_type": "code",
   "execution_count": 93,
   "id": "4e3dc487",
   "metadata": {},
   "outputs": [],
   "source": [
    "seed = 2017\n",
    "np.random.seed(seed)\n",
    "\n",
    "def f1(y, p): return f1_score(y, p, average='micro')\n",
    "\n",
    "# create the super learner\n",
    "def get_super_learner(X):\n",
    "\tensemble = SuperLearner(scorer=f1, folds=5, shuffle=True, random_state = seed)\n",
    "\t# add base models\n",
    "\tmodels = get_models()\n",
    "\tensemble.add(models)\n",
    "\t# add the meta model\n",
    "\tensemble.add_meta(LogisticRegression(max_iter = 400))\n",
    "\treturn ensemble\n",
    " "
   ]
  },
  {
   "cell_type": "code",
   "execution_count": 94,
   "id": "494daa62",
   "metadata": {},
   "outputs": [],
   "source": [
    "# load press release data\n",
    "train_data = pd.read_csv(\"../train_data.csv\", index_col = 0)\n",
    "train_labels = pd.read_csv(\"../train_labels.csv\", index_col = 0)\n",
    "\n",
    "X = train_data.values\n",
    "# y = np.asarray([int(i) for i in r.train_labels])[idx]\n",
    "y = np.asarray([int(i) for i in train_labels.values])"
   ]
  },
  {
   "cell_type": "code",
   "execution_count": 95,
   "id": "b25f8d2f",
   "metadata": {},
   "outputs": [],
   "source": [
    "# create the inputs and outputs\n",
    "\n",
    "# split\n",
    "train, test, train_val, test_val = train_test_split(X, y, test_size = 0.20) # test_size = 0.50\n"
   ]
  },
  {
   "cell_type": "code",
   "execution_count": 96,
   "id": "4eaf7d6a-b9e7-4c94-9fb6-8bb0158eb06c",
   "metadata": {},
   "outputs": [
    {
     "name": "stdout",
     "output_type": "stream",
     "text": [
      "Train (2193, 3386) (2193,) Test (549, 3386) (549,)\n"
     ]
    }
   ],
   "source": [
    "print('Train', train.shape, train_val.shape, 'Test', test.shape, test_val.shape)"
   ]
  },
  {
   "cell_type": "code",
   "execution_count": 113,
   "id": "403402d4-e647-4576-b957-5b3a188260d8",
   "metadata": {},
   "outputs": [
    {
     "ename": "TypeError",
     "evalue": "get_super_learner() got an unexpected keyword argument 'sample_size'",
     "output_type": "error",
     "traceback": [
      "\u001b[0;31m---------------------------------------------------------------------------\u001b[0m",
      "\u001b[0;31mTypeError\u001b[0m                                 Traceback (most recent call last)",
      "\u001b[0;32m<ipython-input-113-c793924b1d63>\u001b[0m in \u001b[0;36m<module>\u001b[0;34m\u001b[0m\n\u001b[1;32m      1\u001b[0m \u001b[0;31m# create the super learner\u001b[0m\u001b[0;34m\u001b[0m\u001b[0;34m\u001b[0m\u001b[0m\n\u001b[0;32m----> 2\u001b[0;31m \u001b[0mensemble\u001b[0m \u001b[0;34m=\u001b[0m \u001b[0mget_super_learner\u001b[0m\u001b[0;34m(\u001b[0m\u001b[0mtrain\u001b[0m\u001b[0;34m,\u001b[0m \u001b[0msample_size\u001b[0m \u001b[0;34m=\u001b[0m \u001b[0mlen\u001b[0m\u001b[0;34m(\u001b[0m\u001b[0mtrain_val\u001b[0m\u001b[0;34m)\u001b[0m\u001b[0;34m)\u001b[0m\u001b[0;34m\u001b[0m\u001b[0m\n\u001b[0m\u001b[1;32m      3\u001b[0m \u001b[0;34m\u001b[0m\u001b[0m\n\u001b[1;32m      4\u001b[0m \u001b[0;31m# fit the super learner\u001b[0m\u001b[0;34m\u001b[0m\u001b[0;34m\u001b[0m\u001b[0m\n\u001b[1;32m      5\u001b[0m \u001b[0mensemble\u001b[0m\u001b[0;34m.\u001b[0m\u001b[0mfit\u001b[0m\u001b[0;34m(\u001b[0m\u001b[0mtrain\u001b[0m\u001b[0;34m[\u001b[0m\u001b[0;34m:\u001b[0m\u001b[0;36m1000\u001b[0m\u001b[0;34m]\u001b[0m\u001b[0;34m,\u001b[0m \u001b[0mtrain_val\u001b[0m\u001b[0;34m[\u001b[0m\u001b[0;34m:\u001b[0m\u001b[0;36m1000\u001b[0m\u001b[0;34m]\u001b[0m\u001b[0;34m)\u001b[0m\u001b[0;34m\u001b[0m\u001b[0m\n",
      "\u001b[0;31mTypeError\u001b[0m: get_super_learner() got an unexpected keyword argument 'sample_size'"
     ]
    }
   ],
   "source": [
    "# create the super learner\n",
    "ensemble = get_super_learner(train)\n",
    "\n",
    "# fit the super learner\n",
    "ensemble.fit(train[:1000], train_val[:1000])\n",
    "\n",
    "# summarize base learners\n",
    "print(ensemble.data)\n",
    "\n",
    "# make predictions on hold out set\n",
    "test_hat = ensemble.predict(test)\n",
    "\n",
    "print('Super Learner: %.3f' % (accuracy_score(test_val, test_hat) * 100))"
   ]
  },
  {
   "cell_type": "code",
   "execution_count": 108,
   "id": "8be1f2fb-f82b-4681-96ce-34895462c27b",
   "metadata": {},
   "outputs": [],
   "source": [
    "preds = ensemble.predict(train[:1000])"
   ]
  },
  {
   "cell_type": "code",
   "execution_count": 111,
   "id": "909fb170-f090-4a62-8331-74f310e034c0",
   "metadata": {},
   "outputs": [],
   "source": [
    "accuracy_score(train_val[:1000], preds)"
   ]
  },
  {
   "cell_type": "code",
   "execution_count": 112,
   "id": "31e0475c-b589-47be-adac-424a1156ed88",
   "metadata": {},
   "outputs": [
    {
     "data": {
      "text/plain": [
       "{'shuffle': True,\n",
       " 'random_state': 2017,\n",
       " 'scorer': <function __main__.f1(y, p)>,\n",
       " '_model_selection': False,\n",
       " '_verbose': False,\n",
       " 'layers': [Layer(backend='threading', dtype=<class 'numpy.float32'>, n_jobs=-1,\n",
       "     name='layer-1', propagate_features=None, raise_on_exception=True,\n",
       "     random_state=9787, shuffle=True,\n",
       "     stack=[Group(backend='threading', dtype=<class 'numpy.float32'>,\n",
       "     indexer=FoldIndex(X=None, folds=5, raise_on_exception=True),\n",
       "     learners=[Learner(attr='predict', backend='threading', dtype=<class 'numpy.float32'>,\n",
       "      estimator=BernoulliNB(),\n",
       "      indexer=FoldIndex(X=None, folds=5, raise_on_excep...n f1 at 0x7fa80fa0f400>)],\n",
       "     n_jobs=-1, name='group-10', raise_on_exception=True, transformers=[])],\n",
       "     verbose=0),\n",
       "  Layer(backend='threading', dtype=<class 'numpy.float32'>, n_jobs=-1,\n",
       "     name='layer-2', propagate_features=None, raise_on_exception=True,\n",
       "     random_state=9787, shuffle=True,\n",
       "     stack=[Group(backend='threading', dtype=<class 'numpy.float32'>,\n",
       "     indexer=FullIndex(X=None),\n",
       "     learners=[Learner(attr='predict', backend='threading', dtype=<class 'numpy.float32'>,\n",
       "      estimator=LogisticRegression(max_iter=400), indexer=FullIndex(X=None),\n",
       "      n_jobs=-1, name='logisticregression', preprocess=None, proba=False,\n",
       "      raise_on_exception=True, scorer=<function f1 at 0x7fa80fa0f400>)],\n",
       "     n_jobs=-1, name='group-11', raise_on_exception=True, transformers=[])],\n",
       "     verbose=0)],\n",
       " 'sample_size': 20,\n",
       " '_id_train': None,\n",
       " '_backend': Sequential(backend='threading', dtype=<class 'numpy.float32'>, n_jobs=-1,\n",
       "       name='sequential-5', raise_on_exception=True,\n",
       "       stack=[Layer(backend='threading', dtype=<class 'numpy.float32'>, n_jobs=-1,\n",
       "    name='layer-1', propagate_features=None, raise_on_exception=True,\n",
       "    random_state=9787, shuffle=True,\n",
       "    stack=[Group(backend='threading', dtype=<class 'numpy.float32'>,\n",
       "    indexer=FoldIndex(X=None, folds=5, raise_on_exce...a0f400>)],\n",
       "    n_jobs=-1, name='group-11', raise_on_exception=True, transformers=[])],\n",
       "    verbose=0)],\n",
       "       verbose=False),\n",
       " 'raise_on_exception': True,\n",
       " '__initialized__': 1,\n",
       " 'folds': 5,\n",
       " 'layer_1': Layer(backend='threading', dtype=<class 'numpy.float32'>, n_jobs=-1,\n",
       "    name='layer-1', propagate_features=None, raise_on_exception=True,\n",
       "    random_state=9787, shuffle=True,\n",
       "    stack=[Group(backend='threading', dtype=<class 'numpy.float32'>,\n",
       "    indexer=FoldIndex(X=None, folds=5, raise_on_exception=True),\n",
       "    learners=[Learner(attr='predict', backend='threading', dtype=<class 'numpy.float32'>,\n",
       "     estimator=BernoulliNB(),\n",
       "     indexer=FoldIndex(X=None, folds=5, raise_on_excep...n f1 at 0x7fa80fa0f400>)],\n",
       "    n_jobs=-1, name='group-10', raise_on_exception=True, transformers=[])],\n",
       "    verbose=0),\n",
       " 'layer_2': Layer(backend='threading', dtype=<class 'numpy.float32'>, n_jobs=-1,\n",
       "    name='layer-2', propagate_features=None, raise_on_exception=True,\n",
       "    random_state=9787, shuffle=True,\n",
       "    stack=[Group(backend='threading', dtype=<class 'numpy.float32'>,\n",
       "    indexer=FullIndex(X=None),\n",
       "    learners=[Learner(attr='predict', backend='threading', dtype=<class 'numpy.float32'>,\n",
       "     estimator=LogisticRegression(max_iter=400), indexer=FullIndex(X=None),\n",
       "     n_jobs=-1, name='logisticregression', preprocess=None, proba=False,\n",
       "     raise_on_exception=True, scorer=<function f1 at 0x7fa80fa0f400>)],\n",
       "    n_jobs=-1, name='group-11', raise_on_exception=True, transformers=[])],\n",
       "    verbose=0)}"
      ]
     },
     "execution_count": 112,
     "metadata": {},
     "output_type": "execute_result"
    }
   ],
   "source": [
    "vars(ensemble)"
   ]
  },
  {
   "cell_type": "code",
   "execution_count": null,
   "id": "cb23b2a3",
   "metadata": {},
   "outputs": [],
   "source": [
    "from sklearn.svm import SVC\n",
    "from sklearn.ensemble import BaggingClassifier\n",
    "\n",
    "clf = BaggingClassifier(base_estimator=SVC(),).fit(train, train_val)"
   ]
  },
  {
   "cell_type": "code",
   "execution_count": 195,
   "id": "b8a770d1",
   "metadata": {},
   "outputs": [],
   "source": [
    "clfhat = clf.predict(test)"
   ]
  },
  {
   "cell_type": "code",
   "execution_count": 196,
   "id": "90da20ea",
   "metadata": {},
   "outputs": [
    {
     "data": {
      "text/plain": [
       "50.27322404371585"
      ]
     },
     "execution_count": 196,
     "metadata": {},
     "output_type": "execute_result"
    }
   ],
   "source": [
    "accuracy_score(y_val, clfhat) * 100"
   ]
  },
  {
   "cell_type": "markdown",
   "id": "11b7eeeb",
   "metadata": {},
   "source": [
    "## Multinomial Textmodel"
   ]
  },
  {
   "cell_type": "code",
   "execution_count": 192,
   "id": "f1ae3d54",
   "metadata": {},
   "outputs": [],
   "source": [
    "mnb = MultinomialNB()\n",
    "y_pred = mnb.fit(X, y).predict(X_val)"
   ]
  },
  {
   "cell_type": "code",
   "execution_count": 193,
   "id": "18065dce",
   "metadata": {},
   "outputs": [
    {
     "data": {
      "text/plain": [
       "0.6612021857923497"
      ]
     },
     "execution_count": 193,
     "metadata": {},
     "output_type": "execute_result"
    }
   ],
   "source": [
    "accuracy_score(y_val, y_pred)"
   ]
  },
  {
   "cell_type": "code",
   "execution_count": 69,
   "id": "c9b06619",
   "metadata": {},
   "outputs": [
    {
     "name": "stdout",
     "output_type": "stream",
     "text": [
      "Number of mislabeled points out of a total 549 points : 201\n"
     ]
    }
   ],
   "source": [
    "print(\"Number of mislabeled points out of a total %d points : %d\" % (y.shape[0], (y_val != y_pred).sum()))"
   ]
  },
  {
   "cell_type": "code",
   "execution_count": 71,
   "id": "fd195c1e",
   "metadata": {},
   "outputs": [
    {
     "data": {
      "text/plain": [
       "0.6338797814207651"
      ]
     },
     "execution_count": 71,
     "metadata": {},
     "output_type": "execute_result"
    }
   ],
   "source": [
    "(y.shape[0] - (y_val != y_pred).sum()) / y.shape[0]"
   ]
  },
  {
   "cell_type": "code",
   "execution_count": null,
   "id": "c578bdf6",
   "metadata": {},
   "outputs": [],
   "source": [
    "accuracy_score(y_pred, clfhat) * 100"
   ]
  }
 ],
 "metadata": {
  "kernelspec": {
   "display_name": "Python 3",
   "language": "python",
   "name": "python3"
  },
  "language_info": {
   "codemirror_mode": {
    "name": "ipython",
    "version": 3
   },
   "file_extension": ".py",
   "mimetype": "text/x-python",
   "name": "python",
   "nbconvert_exporter": "python",
   "pygments_lexer": "ipython3",
   "version": "3.7.0"
  }
 },
 "nbformat": 4,
 "nbformat_minor": 5
}
