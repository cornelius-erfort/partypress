{
 "cells": [
  {
   "cell_type": "code",
   "execution_count": 85,
   "id": "7233a7ec",
   "metadata": {},
   "outputs": [],
   "source": [
    "import pandas as pd\n",
    "import numpy as np\n",
    "\n",
    "# example of a super learner using the mlens library\n",
    "from sklearn.model_selection import train_test_split\n",
    "from sklearn.metrics import accuracy_score\n",
    "from sklearn.metrics import f1_score\n",
    "\n",
    "\n",
    "from sklearn.neighbors import KNeighborsClassifier\n",
    "from sklearn.linear_model import LogisticRegression\n",
    "from sklearn.tree import DecisionTreeClassifier\n",
    "from sklearn.svm import SVC\n",
    "from sklearn.naive_bayes import GaussianNB\n",
    "from sklearn.ensemble import AdaBoostClassifier\n",
    "from sklearn.ensemble import BaggingClassifier\n",
    "from sklearn.ensemble import RandomForestClassifier\n",
    "from sklearn.ensemble import ExtraTreesClassifier\n",
    "from sklearn.naive_bayes import MultinomialNB\n",
    "from sklearn.naive_bayes import BernoulliNB\n",
    "\n",
    "from mlens.ensemble import SuperLearner\n"
   ]
  },
  {
   "cell_type": "code",
   "execution_count": 91,
   "id": "6741297a",
   "metadata": {},
   "outputs": [],
   "source": [
    "def get_models():\n",
    "\tmodels = list()\n",
    "\tmodels.append(MultinomialNB())\n",
    "\tmodels.append(BernoulliNB())\n",
    "\t# Commented out to save time:\n",
    "\tmodels.append(LogisticRegression(solver = 'liblinear', max_iter = 200))\n",
    "\t# models.append(DecisionTreeClassifier())\n",
    "\t# models.append(SVC(gamma = 'scale', probability = True))\n",
    "\t# models.append(GaussianNB())\n",
    "\t# models.append(KNeighborsClassifier())\n",
    "\t# models.append(AdaBoostClassifier())\n",
    "\t# models.append(BaggingClassifier())\n",
    "\t# models.append(RandomForestClassifier())\n",
    "\t# models.append(ExtraTreesClassifier())\n",
    "\treturn models"
   ]
  },
  {
   "cell_type": "code",
   "execution_count": 93,
   "id": "4e3dc487",
   "metadata": {},
   "outputs": [],
   "source": [
    "seed = 2017\n",
    "np.random.seed(seed)\n",
    "\n",
    "def f1(y, p): return f1_score(y, p, average='micro')\n",
    "\n",
    "# create the super learner\n",
    "def get_super_learner(X):\n",
    "\tensemble = SuperLearner(scorer=f1, folds=5, shuffle=True, random_state = seed)\n",
    "\t# add base models\n",
    "\tmodels = get_models()\n",
    "\tensemble.add(models)\n",
    "\t# add the meta model\n",
    "\tensemble.add_meta(LogisticRegression(max_iter = 400))\n",
    "\treturn ensemble\n",
    " "
   ]
  },
  {
   "cell_type": "code",
   "execution_count": 94,
   "id": "494daa62",
   "metadata": {},
   "outputs": [],
   "source": [
    "# load press release data\n",
    "train_data = pd.read_csv(\"../train_data.csv\", index_col = 0)\n",
    "train_labels = pd.read_csv(\"../train_labels.csv\", index_col = 0)\n",
    "\n",
    "X = train_data.values\n",
    "# y = np.asarray([int(i) for i in r.train_labels])[idx]\n",
    "y = np.asarray([int(i) for i in train_labels.values])"
   ]
  },
  {
   "cell_type": "code",
   "execution_count": 95,
   "id": "b25f8d2f",
   "metadata": {},
   "outputs": [],
   "source": [
    "# create the inputs and outputs\n",
    "\n",
    "# split\n",
    "train, test, train_val, test_val = train_test_split(X, y, test_size = 0.20) # test_size = 0.50\n"
   ]
  },
  {
   "cell_type": "code",
   "execution_count": 96,
   "id": "4eaf7d6a-b9e7-4c94-9fb6-8bb0158eb06c",
   "metadata": {},
   "outputs": [
    {
     "name": "stdout",
     "output_type": "stream",
     "text": [
      "Train (2193, 3386) (2193,) Test (549, 3386) (549,)\n"
     ]
    }
   ],
   "source": [
    "print('Train', train.shape, train_val.shape, 'Test', test.shape, test_val.shape)"
   ]
  },
  {
   "cell_type": "code",
   "execution_count": 102,
   "id": "403402d4-e647-4576-b957-5b3a188260d8",
   "metadata": {},
   "outputs": [
    {
     "name": "stderr",
     "output_type": "stream",
     "text": [
      "/Users/cornelius/opt/anaconda3/envs/envy/lib/python3.7/site-packages/sklearn/linear_model/_logistic.py:765: ConvergenceWarning: lbfgs failed to converge (status=1):\n",
      "STOP: TOTAL NO. of ITERATIONS REACHED LIMIT.\n",
      "\n",
      "Increase the number of iterations (max_iter) or scale the data as shown in:\n",
      "    https://scikit-learn.org/stable/modules/preprocessing.html\n",
      "Please also refer to the documentation for alternative solver options:\n",
      "    https://scikit-learn.org/stable/modules/linear_model.html#logistic-regression\n",
      "  extra_warning_msg=_LOGISTIC_SOLVER_CONVERGENCE_MSG)\n"
     ]
    },
    {
     "name": "stdout",
     "output_type": "stream",
     "text": [
      "                               score-m  score-s  ft-m  ft-s  pt-m  pt-s\n",
      "layer-1  bernoullinb              0.35     0.05  3.12  0.68  0.12  0.03\n",
      "layer-1  logisticregression       0.54     0.04  2.99  0.14  0.02  0.01\n",
      "layer-1  multinomialnb            0.56     0.05  2.56  0.32  0.01  0.01\n",
      "\n",
      "Super Learner: 14.572\n"
     ]
    }
   ],
   "source": [
    "# create the super learner\n",
    "ensemble = get_super_learner(train)\n",
    "\n",
    "# fit the super learner\n",
    "ensemble.fit(train[:1000], train_val[:1000])\n",
    "\n",
    "# summarize base learners\n",
    "print(ensemble.data)\n",
    "\n",
    "# make predictions on hold out set\n",
    "test_hat = ensemble.predict(test)\n",
    "\n",
    "print('Super Learner: %.3f' % (accuracy_score(test_val, test_hat) * 100))"
   ]
  },
  {
   "cell_type": "code",
   "execution_count": 108,
   "id": "8be1f2fb-f82b-4681-96ce-34895462c27b",
   "metadata": {},
   "outputs": [],
   "source": [
    "preds = ensemble.predict(train[:1000])"
   ]
  },
  {
   "cell_type": "code",
   "execution_count": 111,
   "id": "296799fa-aa29-4485-b841-6891e9d7bba9",
   "metadata": {},
   "outputs": [
    {
     "data": {
      "text/plain": [
       "0.209"
      ]
     },
     "execution_count": 111,
     "metadata": {},
     "output_type": "execute_result"
    }
   ],
   "source": [
    "accuracy_score(train_val[:1000], preds)"
   ]
  },
  {
   "cell_type": "code",
   "execution_count": null,
   "id": "cb23b2a3",
   "metadata": {},
   "outputs": [],
   "source": [
    "from sklearn.svm import SVC\n",
    "from sklearn.ensemble import BaggingClassifier\n",
    "\n",
    "clf = BaggingClassifier(base_estimator=SVC(),).fit(train, train_val)"
   ]
  },
  {
   "cell_type": "code",
   "execution_count": 195,
   "id": "b8a770d1",
   "metadata": {},
   "outputs": [],
   "source": [
    "clfhat = clf.predict(test)"
   ]
  },
  {
   "cell_type": "code",
   "execution_count": 196,
   "id": "90da20ea",
   "metadata": {},
   "outputs": [
    {
     "data": {
      "text/plain": [
       "50.27322404371585"
      ]
     },
     "execution_count": 196,
     "metadata": {},
     "output_type": "execute_result"
    }
   ],
   "source": [
    "accuracy_score(y_val, clfhat) * 100"
   ]
  },
  {
   "cell_type": "markdown",
   "id": "11b7eeeb",
   "metadata": {},
   "source": [
    "## Multinomial Textmodel"
   ]
  },
  {
   "cell_type": "code",
   "execution_count": 192,
   "id": "f1ae3d54",
   "metadata": {},
   "outputs": [],
   "source": [
    "mnb = MultinomialNB()\n",
    "y_pred = mnb.fit(X, y).predict(X_val)"
   ]
  },
  {
   "cell_type": "code",
   "execution_count": 193,
   "id": "18065dce",
   "metadata": {},
   "outputs": [
    {
     "data": {
      "text/plain": [
       "0.6612021857923497"
      ]
     },
     "execution_count": 193,
     "metadata": {},
     "output_type": "execute_result"
    }
   ],
   "source": [
    "accuracy_score(y_val, y_pred)"
   ]
  },
  {
   "cell_type": "code",
   "execution_count": 69,
   "id": "c9b06619",
   "metadata": {},
   "outputs": [
    {
     "name": "stdout",
     "output_type": "stream",
     "text": [
      "Number of mislabeled points out of a total 549 points : 201\n"
     ]
    }
   ],
   "source": [
    "print(\"Number of mislabeled points out of a total %d points : %d\" % (y.shape[0], (y_val != y_pred).sum()))"
   ]
  },
  {
   "cell_type": "code",
   "execution_count": 71,
   "id": "fd195c1e",
   "metadata": {},
   "outputs": [
    {
     "data": {
      "text/plain": [
       "0.6338797814207651"
      ]
     },
     "execution_count": 71,
     "metadata": {},
     "output_type": "execute_result"
    }
   ],
   "source": [
    "(y.shape[0] - (y_val != y_pred).sum()) / y.shape[0]"
   ]
  },
  {
   "cell_type": "code",
   "execution_count": null,
   "id": "c578bdf6",
   "metadata": {},
   "outputs": [],
   "source": [
    "accuracy_score(y_pred, clfhat) * 100"
   ]
  }
 ],
 "metadata": {
  "kernelspec": {
   "display_name": "Python 3",
   "language": "python",
   "name": "python3"
  },
  "language_info": {
   "codemirror_mode": {
    "name": "ipython",
    "version": 3
   },
   "file_extension": ".py",
   "mimetype": "text/x-python",
   "name": "python",
   "nbconvert_exporter": "python",
   "pygments_lexer": "ipython3",
   "version": "3.7.0"
  }
 },
 "nbformat": 4,
 "nbformat_minor": 5
}
